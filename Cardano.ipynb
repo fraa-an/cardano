{
 "cells": [
  {
   "cell_type": "code",
   "execution_count": 1,
   "id": "234c14d9-b1dd-4cbe-a2a9-6de2453c3e62",
   "metadata": {},
   "outputs": [],
   "source": [
    "import numpy\n",
    "from fractions import Fraction\n",
    "import cmath\n",
    "import math\n",
    "import sympy"
   ]
  },
  {
   "cell_type": "code",
   "execution_count": 2,
   "id": "2b8a78ac-f45a-45e9-8d0e-3f24dcd67bf6",
   "metadata": {},
   "outputs": [],
   "source": [
    "def resolver(a3, a2, a1, a0):\n",
    "#Convertimos primero en polinomio mónico\n",
    "    a=Fraction(a2,a3)\n",
    "    b=Fraction(a1,a3)\n",
    "    c=Fraction(a0,a3)\n",
    "#Transformación de Tschirnhaus\n",
    "    p=b-Fraction(a*a,3)\n",
    "    q= Fraction(2*a*a*a,27) - Fraction((a*b),3) + c\n",
    "#Cálculo del discriminante\n",
    "    disc=q*q+Fraction(4*p*p*p,27)\n",
    "    if(disc>0):\n",
    "        aux1=Fraction(q*q,4)+Fraction(p*p*p,27)\n",
    "        u=math.cbrt(-q/2+sympy.sqrt(aux1)) #Dis\n",
    "        v=math.cbrt(-q/2-sympy.sqrt(aux1))\n",
    "        x1=u+v #Raíz Real con math\n",
    "        x1r=sympy.cbrt(-q/2+sympy.sqrt(aux1))+sympy.cbrt(-q/2-sympy.sqrt(aux1)) #Raíz real con sympy: al evaluarla, la raíz cúbica no devuelve un número real\n",
    "        print (\"Valor de la raíz real:\", x1r-Fraction(a,3))\n",
    "        print (\"Valor aproximado de la raíz real:\", x1-Fraction(a,3))\n",
    "        x2=complex(Fraction(-1,2)*x1,(sympy.sqrt(3)/2)*(v-u))#Raíces complejas\n",
    "        x3=complex(Fraction(-1,2)*x1,-(sympy.sqrt(3)/2)*(v-u))\n",
    "        print (\"Valor aproximado de una raíz compleja: \", x2-Fraction(a,3))\n",
    "        print (\"Valor aproximado de la otra raíz compleja: \", x3-Fraction(a,3))\n",
    "    elif (disc==0):\n",
    "        if(p==0 and q==0): print(\"0 es raíz triple del polinomio\")\n",
    "        else:\n",
    "            x1=2*(sympy.cbrt(Fraction(q,-2)))\n",
    "            x2=-(sympy.cbrt(Fraction(q,-2)))\n",
    "            print(\"Valor de la raíz real simple: \",x1-Fraction(a,3))\n",
    "            print(\"Valor aproximado de la raíz real simple: \",x1.evalf()-Fraction(a,3))\n",
    "            print(\"Valor de la raíz real doble: \",x2-Fraction(a,3))\n",
    "            print(\"Valor aproximado de la raíz real doble: \",x2.evalf()-Fraction(a,3))\n",
    "    else:   #disc<0\n",
    "        theta=(-float(q)/2) *(sympy.sqrt((-p/3)**3))\n",
    "        aux3=2*(sympy.sqrt(-p/3))\n",
    "        x1=aux3*math.cos(theta/3)\n",
    "        x2=aux3*math.cos((theta+2*math.pi)/3)\n",
    "        x3=aux3*math.cos((theta+4*math.pi)/3)\n",
    "        #print(\"Valor aproximado de la primera raíz real: \", x1-Fraction(a,3))\n",
    "        print(\"Valor aproximado decimal de la primera raíz real: \", x1.evalf()-Fraction(a,3))\n",
    "        #print(\"Valor aproximado de la segunda raíz real: \", x2-Fraction(a,3))\n",
    "        print(\"Valor aproximado decimal de la segunda raíz real: \", x2.evalf()-Fraction(a,3))\n",
    "        #print(\"Valor aproximado de la tercera raíz real: \", x3-Fraction(a,3))\n",
    "        print(\"Valor decimal aproximado de la tercera raíz real: \", x3.evalf()-Fraction(a,3))\n",
    "        #Se pierden las fracciones al multiplicar por el coseno\n",
    "    "
   ]
  },
  {
   "cell_type": "markdown",
   "id": "17fe66cc-74d3-4175-9e78-98eba6b35759",
   "metadata": {},
   "source": [
    "**Ejemplo 1**: \n",
    "\n",
    "$f_1(t)$ = $t^3+3t^2+2t+3$\n",
    "\n",
    "Raíz real de $f_1$ : $-1+\\sqrt[3]{-\\frac{3}{2}+\\sqrt{\\frac{9}{4}+\\frac{1}{27}}}+\\sqrt[3]{-\\frac{3}{2}-\\sqrt{\\frac{9}{4}+\\frac{1}{27}}} = -1+\\sqrt[3]{-\\frac{3}{2}+\\frac{\\sqrt{717}}{18}}+\\sqrt[3]{-\\frac{3}{2}-\\frac{\\sqrt{717}}{18}}$"
   ]
  },
  {
   "cell_type": "code",
   "execution_count": 3,
   "id": "ec1ecf15-0d29-41ce-ba88-9d02338d664b",
   "metadata": {},
   "outputs": [
    {
     "name": "stdout",
     "output_type": "stream",
     "text": [
      "Valor de la raíz real: -1 + (-3/2 + sqrt(717)/18)**(1/3) + (-3/2 - sqrt(717)/18)**(1/3)\n",
      "Valor aproximado de la raíz real: -2.671699881657161\n",
      "Valor aproximado de una raíz compleja:  (-0.16415005917141956-1.0468693188499818j)\n",
      "Valor aproximado de la otra raíz compleja:  (-0.16415005917141956+1.0468693188499818j)\n"
     ]
    }
   ],
   "source": [
    "resolver(1,3,2,3)"
   ]
  },
  {
   "cell_type": "markdown",
   "id": "9b81b8af-c072-40bc-8cb9-0733b000136e",
   "metadata": {},
   "source": [
    "**Ejemplo 2**: \n",
    "\n",
    "$f_2(t)$ = $t^3-3t-2$\n",
    "\n",
    "Raíces de $f_2$ : { $2$ , $-1$ , $-1$ }"
   ]
  },
  {
   "cell_type": "code",
   "execution_count": 4,
   "id": "4acd4274-fadb-41da-bf45-e2c7b2f277b8",
   "metadata": {},
   "outputs": [
    {
     "name": "stdout",
     "output_type": "stream",
     "text": [
      "Valor de la raíz real simple:  2\n",
      "Valor aproximado de la raíz real simple:  2.00000000000000\n",
      "Valor de la raíz real doble:  -1\n",
      "Valor aproximado de la raíz real doble:  -1.00000000000000\n"
     ]
    }
   ],
   "source": [
    "resolver(1,0,-3,-2)"
   ]
  },
  {
   "cell_type": "markdown",
   "id": "e968dae4-f695-48c1-b913-1c0c57cc713a",
   "metadata": {},
   "source": [
    "**Ejemplo 3**: \n",
    "\n",
    "$f_3(t)$ = $t^3-6t-4$\n",
    "\n",
    "Raíces de $f_3$ : { $-2$ , $1+\\sqrt{3} \\approxeq 2.732$ , $1-\\sqrt{3}\\approxeq -0.732$ }"
   ]
  },
  {
   "cell_type": "code",
   "execution_count": 5,
   "id": "d57db69c-4dc0-4e97-a5e8-41a553e914b7",
   "metadata": {},
   "outputs": [
    {
     "name": "stdout",
     "output_type": "stream",
     "text": [
      "Valor aproximado decimal de la primera raíz real:  -0.875813953837764\n",
      "Valor aproximado decimal de la segunda raíz real:  -1.89119423142250\n",
      "Valor decimal aproximado de la tercera raíz real:  2.76700818526027\n"
     ]
    }
   ],
   "source": [
    "resolver(1,0,-6,-4)"
   ]
  }
 ],
 "metadata": {
  "kernelspec": {
   "display_name": "Python 3 (ipykernel)",
   "language": "python",
   "name": "python3"
  },
  "language_info": {
   "codemirror_mode": {
    "name": "ipython",
    "version": 3
   },
   "file_extension": ".py",
   "mimetype": "text/x-python",
   "name": "python",
   "nbconvert_exporter": "python",
   "pygments_lexer": "ipython3",
   "version": "3.13.0"
  }
 },
 "nbformat": 4,
 "nbformat_minor": 5
}
